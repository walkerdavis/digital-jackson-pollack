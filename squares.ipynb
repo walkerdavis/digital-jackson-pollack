{
 "cells": [
  {
   "cell_type": "code",
   "execution_count": 1,
   "metadata": {},
   "outputs": [],
   "source": [
    "import numpy as np\n",
    "import matplotlib.pyplot as plt\n",
    "from scipy import interpolate\n",
    "from art_functions import *\n",
    "import random as rand\n"
   ]
  },
  {
   "cell_type": "code",
   "execution_count": null,
   "metadata": {},
   "outputs": [],
   "source": [
    "width, height = 400, 700"
   ]
  },
  {
   "cell_type": "code",
   "execution_count": null,
   "metadata": {},
   "outputs": [],
   "source": [
    "# canvas = np.zeros((width,height),dtype=int)\n",
    "# print(canvas.shape)"
   ]
  },
  {
   "cell_type": "code",
   "execution_count": null,
   "metadata": {},
   "outputs": [],
   "source": []
  },
  {
   "cell_type": "code",
   "execution_count": null,
   "metadata": {},
   "outputs": [],
   "source": []
  },
  {
   "cell_type": "code",
   "execution_count": null,
   "metadata": {},
   "outputs": [],
   "source": []
  },
  {
   "cell_type": "code",
   "execution_count": 2,
   "metadata": {},
   "outputs": [],
   "source": [
    "def rotate(origin, point, angle):\n",
    "    \"\"\"\n",
    "    Rotate a point counterclockwise by a given angle around a given origin.\n",
    "\n",
    "    The angle should be given in radians.\n",
    "    \"\"\"\n",
    "    ox, oy = origin\n",
    "    px, py = point\n",
    "\n",
    "    qx = ox + math.cos(angle) * (px - ox) - math.sin(angle) * (py - oy)\n",
    "    qy = oy + math.sin(angle) * (px - ox) + math.cos(angle) * (py - oy)\n",
    "    return qx, qy"
   ]
  },
  {
   "cell_type": "code",
   "execution_count": 308,
   "metadata": {},
   "outputs": [],
   "source": [
    "def curved_line_horizontal(x0, x1, y0, x_spread=4, y_spread=20, num_points=0):\n",
    "    if num_points == 0:\n",
    "        num_points = np.random.randint(3,6) * 2\n",
    "    \n",
    "    ### get x points\n",
    "    x = np.linspace(x0,x1,num_points)\n",
    "    for i in range(len(x)):\n",
    "        x[i] += rand.randint(-x_spread,x_spread)\n",
    "    x[0], x[-1] = x0, x1\n",
    "    \n",
    "    ### get y points\n",
    "    y = np.full(num_points, y0)\n",
    "    for i in range(len(y)):\n",
    "        y[i] += rand.randint(-y_spread,y_spread)\n",
    "    y[0], y[-1] = y0, y0\n",
    "\n",
    "    ### interpolate\n",
    "    line_res = 5\n",
    "    x2 = np.linspace(x[0], x[-1], (x[-1] - x[0])*line_res)\n",
    "    x2, indices = np.unique(x2, return_index=True)\n",
    "    y2 = interpolate.pchip_interpolate(x, y, x2[indices])\n",
    "    \n",
    "    return x2, y2"
   ]
  },
  {
   "cell_type": "code",
   "execution_count": 309,
   "metadata": {},
   "outputs": [],
   "source": [
    "def curved_line_vertical(x0, y0, y1, y_spread=2, num_points=0):    \n",
    "    x1new = x0 + (y1 - y0)\n",
    "    \n",
    "    ### something funny here, y coordinate is y0, not between y0 and y1\n",
    "    hx, hy = curved_line_horizontal(x0, x1new, y0, y_spread=y_spread)\n",
    "    vx, vy = [], []\n",
    "    for i in range(len(hx)-1):\n",
    "        coord = rotate((x0, y0),(hx[i],hy[i]),math.radians(90))\n",
    "        vx.append(coord[0])\n",
    "        vy.append(coord[1]) \n",
    "    return vx, vy"
   ]
  },
  {
   "cell_type": "code",
   "execution_count": 310,
   "metadata": {},
   "outputs": [],
   "source": [
    "def quantize_line_pair(x, y):\n",
    "    horizontal = True\n",
    "    if len(np.unique(np.vectorize(round)(x)).astype(int)) < len(np.unique(np.vectorize(round)(y)).astype(int)):\n",
    "        horizontal = False\n",
    "    \n",
    "    if horizontal:\n",
    "        x_int = (np.vectorize(round)(x)).astype(int)\n",
    "        x_diff = np.diff(x_int)\n",
    "        x_ints = np.concatenate(np.argwhere(x_diff==1))\n",
    "        x_uni = x_int[x_ints]\n",
    "        y_uni = (np.vectorize(round)(y)).astype(int)[x_ints]\n",
    "    else:\n",
    "        y_int = (np.vectorize(round)(y)).astype(int)\n",
    "        y_diff = np.diff(y_int)\n",
    "        y_ints = np.concatenate(np.argwhere(y_diff==1))\n",
    "        y_uni = y_int[y_ints]\n",
    "        x_uni = (np.vectorize(round)(x)).astype(int)[y_ints]\n",
    "        \n",
    "    return x_uni, y_uni"
   ]
  },
  {
   "cell_type": "code",
   "execution_count": 311,
   "metadata": {},
   "outputs": [],
   "source": [
    "def get_rectangle_curved(w0, h0, w1, h1):\n",
    "    tx, ty = curved_line_horizontal( w0, w1, h0, y_spread=5)\n",
    "    bx, by = curved_line_horizontal( w0, w1, h1, y_spread=5)\n",
    "    lx, ly = curved_line_vertical( w0, h0, h1, y_spread=3)\n",
    "    rx, ry = curved_line_vertical( w1, h0, h1, y_spread=3)\n",
    "\n",
    "    tx = np.asarray(tx)\n",
    "    ty = np.asarray(ty)\n",
    "    tx, ty = quantize_line_pair(tx, ty)\n",
    "    \n",
    "    bx = np.asarray(bx)\n",
    "    by = np.asarray(by)\n",
    "    bx, by = quantize_line_pair(bx, by)\n",
    "    \n",
    "    lx = np.asarray(lx)\n",
    "    ly = np.asarray(ly)\n",
    "    lx, ly = quantize_line_pair(lx, ly)\n",
    "    \n",
    "    rx = np.asarray(rx)\n",
    "    ry = np.asarray(ry)\n",
    "    rx, ry = quantize_line_pair(rx, ry)\n",
    "    \n",
    "    return tx, ty, bx, by, lx, ly, rx, ry"
   ]
  },
  {
   "cell_type": "code",
   "execution_count": 312,
   "metadata": {},
   "outputs": [
    {
     "name": "stderr",
     "output_type": "stream",
     "text": [
      "/Applications/anaconda3/lib/python3.6/site-packages/ipykernel_launcher.py:19: DeprecationWarning: object of type <class 'numpy.float64'> cannot be safely interpreted as an integer.\n"
     ]
    },
    {
     "data": {
      "text/plain": [
       "[<matplotlib.lines.Line2D at 0xb2786c9b0>]"
      ]
     },
     "execution_count": 312,
     "metadata": {},
     "output_type": "execute_result"
    },
    {
     "data": {
      "image/png": "[encoded data removed]",
      "text/plain": [
       "<Figure size 432x288 with 1 Axes>"
      ]
     },
     "metadata": {
      "needs_background": "light"
     },
     "output_type": "display_data"
    }
   ],
   "source": [
    "w, h = 400, 600\n",
    "\n",
    "q,w,e,r,t,y,u,i = get_rectangle_curved(0, 0, 1000, 1000)\n",
    "\n",
    "plt.plot(q,w)\n",
    "plt.plot(e,r)\n",
    "plt.plot(t,y)\n",
    "plt.plot(u,i)"
   ]
  },
  {
   "cell_type": "code",
   "execution_count": null,
   "metadata": {},
   "outputs": [],
   "source": []
  },
  {
   "cell_type": "code",
   "execution_count": null,
   "metadata": {},
   "outputs": [],
   "source": []
  },
  {
   "cell_type": "code",
   "execution_count": null,
   "metadata": {},
   "outputs": [],
   "source": []
  },
  {
   "cell_type": "code",
   "execution_count": 284,
   "metadata": {},
   "outputs": [],
   "source": [
    "def array_distances(np_array, req_dist):\n",
    "    diffs = np.diff(np_array)\n",
    "    if (len(np_array) == 1) | (np.all(diffs > req_dist)):\n",
    "        return True\n",
    "    else:\n",
    "        return False\n",
    "    \n",
    "def get_rectangle_set(width_full, height_full, num_rect, border=0.05):\n",
    "    num_rect -= 1\n",
    "    \n",
    "    spacing = 15\n",
    "    rect_centers = np.array([15,16]) #dummy value\n",
    "    \n",
    "    while not array_distances(rect_centers, spacing):\n",
    "        rect_centers = np.random.randint(spacing, (100 - spacing), num_rect)\n",
    "        rect_centers.sort()\n",
    "        \n",
    "    rect_centers = np.insert(rect_centers, 0, 0)\n",
    "    rect_centers = np.append(rect_centers, 100)\n",
    "    \n",
    "    rect_set = []\n",
    "    for i in range(len(rect_centers) - 1):\n",
    "        rect_bottom = (rect_centers[i] * height_full / 100) + (height_full * border/num_rect)\n",
    "        rect_top = ((rect_centers[i + 1]) * height_full / 100) - (height_full * border/num_rect)\n",
    "        rect_left = width_full * border\n",
    "        rect_right = width_full * (1 - border)\n",
    "        rect_set.append(get_rectangle_curved(rect_left, rect_bottom, rect_right, rect_top))\n",
    "        \n",
    "    return rect_set"
   ]
  },
  {
   "cell_type": "code",
   "execution_count": 285,
   "metadata": {},
   "outputs": [],
   "source": [
    "def find_nearest(array,value):\n",
    "    idx = np.searchsorted(array, value, side=\"left\")\n",
    "    if idx > 0 and (idx == len(array) or math.fabs(value - array[idx-1]) < math.fabs(value - array[idx])):\n",
    "        return array[idx-1]\n",
    "    else:\n",
    "        return array[idx]"
   ]
  },
  {
   "cell_type": "code",
   "execution_count": null,
   "metadata": {},
   "outputs": [],
   "source": []
  },
  {
   "cell_type": "code",
   "execution_count": 299,
   "metadata": {},
   "outputs": [],
   "source": [
    "def mark_rothko(width, height, num_squares=2):\n",
    "    canvas = np.zeros((width,height),dtype=int)\n",
    "    print(canvas.shape)\n",
    "\n",
    "    rects = get_rectangle_set(width, height, num_squares)\n",
    "    \n",
    "    color = 1\n",
    "    for r in rects: #t, b, l, r\n",
    "\n",
    "        bx, by, tx, ty, lx, ly, rx, ry = r[0], r[1], r[2], r[3], r[4], r[5], r[6], r[7]\n",
    "        \n",
    "        b_min = int(np.floor(min(by)))\n",
    "        b_max = int(np.ceil(max(by)))\n",
    "        t_min = int(np.floor(min(ty)))\n",
    "        t_max = int(np.ceil(max(ty)))\n",
    "        \n",
    "        l_min = int(np.floor(min(lx)))\n",
    "        l_max = int(np.ceil(max(lx)))\n",
    "        r_min = int(np.floor(min(rx)))\n",
    "        r_max = int(np.ceil(max(rx)))\n",
    "        \n",
    "        # middle\n",
    "        for i in range(l_max, r_min):\n",
    "            for j in range(b_max, t_min):\n",
    "                canvas[i][j] = color\n",
    "                \n",
    "        # horizontal\n",
    "        for i in range(len(bx)-1):    \n",
    "            ### top\n",
    "            for j in range(b_min, b_max):\n",
    "                if j >= by[i]:\n",
    "                    canvas[i + int(bx[0])][j] = color\n",
    "            ### bottom\n",
    "            for j in range(t_min, t_max):\n",
    "                if j <= ty[i]:\n",
    "                    canvas[i + int(tx[0])][j] = color\n",
    "                       \n",
    "        # vertical\n",
    "        for j in range(len(ly)-1): \n",
    "            # left\n",
    "            for i in range(l_min, l_max + 1):\n",
    "                if i >= lx[j]:\n",
    "                    canvas[i][j + ly[0]] = color \n",
    "            # right\n",
    "            for i in range(r_min, r_max + 1):\n",
    "                if i <= rx[j]:\n",
    "                    canvas[i][j + ry[0]] = color \n",
    "            \n",
    "            \n",
    "            \n",
    "        \n",
    "        color += 1\n",
    "\n",
    "    return canvas"
   ]
  },
  {
   "cell_type": "code",
   "execution_count": 318,
   "metadata": {
    "scrolled": true
   },
   "outputs": [
    {
     "name": "stdout",
     "output_type": "stream",
     "text": [
      "(400, 600)\n"
     ]
    },
    {
     "name": "stderr",
     "output_type": "stream",
     "text": [
      "/Applications/anaconda3/lib/python3.6/site-packages/ipykernel_launcher.py:19: DeprecationWarning: object of type <class 'numpy.float64'> cannot be safely interpreted as an integer.\n"
     ]
    },
    {
     "data": {
      "image/png": "[encoded data removed]",
      "text/plain": [
       "<PIL.Image.Image image mode=RGB size=400x600 at 0xB278DBE80>"
      ]
     },
     "execution_count": 318,
     "metadata": {},
     "output_type": "execute_result"
    }
   ],
   "source": [
    "canvas_to_image(mark_rothko(400,600,4))"
   ]
  },
  {
   "cell_type": "code",
   "execution_count": null,
   "metadata": {},
   "outputs": [],
   "source": []
  },
  {
   "cell_type": "code",
   "execution_count": null,
   "metadata": {},
   "outputs": [],
   "source": []
  },
  {
   "cell_type": "code",
   "execution_count": null,
   "metadata": {},
   "outputs": [],
   "source": []
  },
  {
   "cell_type": "code",
   "execution_count": null,
   "metadata": {},
   "outputs": [],
   "source": [
    "w, h = 1000, 1000\n",
    "border_width = .05\n",
    "\n",
    "q,w,e,r,t,y,u,i = get_rectangle_curved(w, h)\n",
    "\n",
    "plt.plot(q,w)\n",
    "plt.plot(e,r)\n",
    "plt.plot(t,y)\n",
    "plt.plot(u,i)"
   ]
  },
  {
   "cell_type": "code",
   "execution_count": null,
   "metadata": {},
   "outputs": [],
   "source": [
    "def curved_line_vertical(x0, y0, x1, y1, border=.05, x_spread=4, y_spread=20, num_points=0):\n",
    "    print('v points: ', x0, y0, x1, y1)\n",
    "#     center = ((x0),((y1 - y0)/2) + y0)\n",
    "    \n",
    "    ynew = ((y1-y0)/2) + y0\n",
    "    x0r = (ynew - ((y1-y0)/2)) * (1 - border)\n",
    "    x1r = ynew + ((y1-y0)/2) * (1 + border)\n",
    "    \n",
    "    \n",
    "    print('  start: ',int(x0r), int(ynew))\n",
    "    print('  end:   ',int(x1r), int(ynew))\n",
    "    ### something funny here, y coordinate is y0, not between y0 and y1\n",
    "    hx, hy = curved_line_horizontal(x0r, ynew, x1r, ynew, y_spread=y_spread)\n",
    "    vx, vy = [], []\n",
    "    for i in range(len(hx)-1):\n",
    "        coord = rotate((x0r, ynew),(hx[i],hy[i]),math.radians(-90))\n",
    "        vx.append(coord[0])\n",
    "        vy.append(coord[1]+ ynew) \n",
    "    return vx, vy"
   ]
  },
  {
   "cell_type": "code",
   "execution_count": null,
   "metadata": {},
   "outputs": [],
   "source": []
  },
  {
   "cell_type": "code",
   "execution_count": null,
   "metadata": {},
   "outputs": [],
   "source": []
  },
  {
   "cell_type": "code",
   "execution_count": null,
   "metadata": {},
   "outputs": [],
   "source": [
    "s = [20, 17, 15, 12, 24, 19, 17, 15]\n",
    "sub_line = 0\n",
    "ascending = True\n",
    "\n",
    "order = ''\n",
    "if s[0] < s[1]:\n",
    "    order = 'asc'\n",
    "else:\n",
    "    order = 'des'\n",
    "\n",
    "cur_list = []\n",
    "sub_lists = []\n",
    "    \n",
    "for i in range(len(s) -1):\n",
    "    cur_order = ''\n",
    "    cur_list.append(s[i])\n",
    "    \n",
    "    if s[i] < s[i + 1]:\n",
    "        cur_order = 'asc'\n",
    "    else:\n",
    "        cur_order = 'des'\n",
    "        \n",
    "    if cur_order == order:\n",
    "        print('same')\n",
    "    else:\n",
    "        print('not same: ', sub_lists, cur_list)\n",
    "        sub_lists.append(cur_list)\n",
    "        cur_list = [s[i]]\n",
    "        \n",
    "    print(i, order, cur_order, cur_list)\n",
    "    order = cur_order\n",
    "    \n",
    "print(sub_lists)"
   ]
  },
  {
   "cell_type": "code",
   "execution_count": null,
   "metadata": {},
   "outputs": [],
   "source": []
  },
  {
   "cell_type": "code",
   "execution_count": null,
   "metadata": {},
   "outputs": [],
   "source": []
  },
  {
   "cell_type": "code",
   "execution_count": null,
   "metadata": {},
   "outputs": [],
   "source": []
  },
  {
   "cell_type": "code",
   "execution_count": null,
   "metadata": {},
   "outputs": [],
   "source": []
  },
  {
   "cell_type": "code",
   "execution_count": null,
   "metadata": {},
   "outputs": [],
   "source": [
    "def paint_splat(canvas, color):\n",
    "    num_points = np.random.randint(3,6)\n",
    "    splat_width = 4\n",
    "    splat_height = 20\n",
    "    \n",
    "    x = np.random.randint(0,canvas.shape[0],size=num_points)\n",
    "    while (min(abs(np.ediff1d(x))) < 20) | (max(x) - min(x) <= ((splat_width + 1) * num_points)) | (x.shape[0] != np.unique(x).shape[0]) | (x[1] - x[0] <= splat_width) | (x[-1] - x[-2] <= splat_width):\n",
    "        x = np.random.randint(0,canvas.shape[0],size=num_points)\n",
    "    x.sort()\n",
    "    y = np.random.randint(0,canvas.shape[1],size=num_points)\n",
    "    \n",
    "    v, w = x.copy(), y.copy()\n",
    "    \n",
    "    for i in range(num_points - 2):\n",
    "        v_temp = v[i + 1] + random.randint(-splat_width, splat_width)\n",
    "        while v_temp in v:\n",
    "            v_temp = v[i + 1] + random.randint(-splat_width, splat_width)\n",
    "        v[i + 1,] = min(max(v_temp,0),canvas.shape[0]-1)\n",
    "        w[i + 1,] += min(max(random.randint(-splat_height, splat_height),0),canvas.shape[1]-1)\n",
    "    v.sort()\n",
    "        \n",
    "\n",
    "    line_res = 5\n",
    "    x2 = np.linspace(x[0], x[-1], (x[-1] - x[0])*line_res)\n",
    "    x2, indices = np.unique(x2, return_index=True)\n",
    "    y2 = interpolate.pchip_interpolate(x, y, x2[indices])\n",
    "    \n",
    "    v2 = np.linspace(v[0], v[-1], (v[-1] - v[0])*line_res)\n",
    "    v2, indices = np.unique(v2, return_index=True)\n",
    "    w2 = interpolate.pchip_interpolate(v, w, v2[indices])\n",
    "    \n",
    "    \n",
    "    #do splatter\n",
    "    for i in range(len(x2)):\n",
    "        if y2[i] < canvas.shape[1]:\n",
    "            canvas[int(math.ceil(x2[i]))][int(math.ceil(y2[i]))] = color\n",
    "        canvas[int(math.floor(x2[i]))][int(math.floor(y2[i]))] = color\n",
    "        \n",
    "        if (v2[i] >= 0) & (w2[i] >= 0) & (v2[i] < canvas.shape[0]) & (w2[i] < canvas.shape[1] - 1):\n",
    "            canvas[int(math.ceil(v2[i]))][int(math.ceil(w2[i]))] = color\n",
    "            canvas[int(math.floor(v2[i]))][int(math.floor(w2[i]))] = color\n",
    "        \n",
    "        \n",
    "        \n",
    "def cy_twombly(width, height, num_colors, num_splatters):\n",
    "    canvas = np.zeros((width,height),dtype=int)\n",
    "    print(canvas.shape)\n",
    "\n",
    "    for x in range(0,num_splatters):\n",
    "        #randint is inclusive, need to subtract one from num_colors\n",
    "        color = random.randint(0,num_colors-1)\n",
    "        paint_splat(canvas, color)\n",
    "\n",
    "    return canvas"
   ]
  }
 ],
 "metadata": {
  "kernelspec": {
   "display_name": "Python 3",
   "language": "python",
   "name": "python3"
  },
  "language_info": {
   "codemirror_mode": {
    "name": "ipython",
    "version": 3
   },
   "file_extension": ".py",
   "mimetype": "text/x-python",
   "name": "python",
   "nbconvert_exporter": "python",
   "pygments_lexer": "ipython3",
   "version": "3.6.8"
  }
 },
 "nbformat": 4,
 "nbformat_minor": 2
}
