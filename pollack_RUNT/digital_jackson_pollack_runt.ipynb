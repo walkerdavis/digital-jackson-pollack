{
 "cells": [
  {
   "cell_type": "markdown",
   "metadata": {},
   "source": [
    "# Digital Jackson Pollock Notebook\n",
    "#### In addition to running this notebook, you will need to clone Muvik Labs [Pixku](https://www.github.com/MuvikLabs/pixku) repo and follow the instructions there to generate your digital canvases.  "
   ]
  },
  {
   "cell_type": "code",
   "execution_count": null,
   "metadata": {},
   "outputs": [],
   "source": [
    "import numpy as np\n",
    "import math\n",
    "import random\n",
    "\n",
    "from pollack_functions import *"
   ]
  },
  {
   "cell_type": "markdown",
   "metadata": {},
   "source": [
    "## Select your color palette"
   ]
  },
  {
   "cell_type": "code",
   "execution_count": null,
   "metadata": {},
   "outputs": [],
   "source": [
    "#these are the RGB values of the colors used in Jackson Pollack's 1952 Convergence\n",
    "#***pixku accepts a max of 8 colors***\n",
    "\n",
    "palette = []\n",
    "palette.append('216 187 154')\n",
    "palette.append('206 179 146')\n",
    "palette.append('218 189 157')\n",
    "palette.append('225 223 212')\n",
    "palette.append('19 20 15')\n",
    "palette.append('36 74 114')\n",
    "palette.append('193 175 84')\n",
    "palette.append('222 90 65')"
   ]
  },
  {
   "cell_type": "markdown",
   "metadata": {},
   "source": [
    "## Specify the dimensions and number of colors"
   ]
  },
  {
   "cell_type": "code",
   "execution_count": null,
   "metadata": {},
   "outputs": [],
   "source": [
    "#get new canvas and create lines\n",
    "convergence_canvas = jackson_pollack(256, 256, 8, 6000)"
   ]
  },
  {
   "cell_type": "markdown",
   "metadata": {},
   "source": [
    "## Write to .rnt file"
   ]
  },
  {
   "cell_type": "code",
   "execution_count": null,
   "metadata": {},
   "outputs": [],
   "source": [
    "#fill lines with Pollack's Convergence colors and write to .rnt file\n",
    "writeToRuntFile('convergence.rnt', convergence_canvas, palette)"
   ]
  },
  {
   "cell_type": "markdown",
   "metadata": {},
   "source": [
    "## Create a canvas with randomized colors"
   ]
  },
  {
   "cell_type": "code",
   "execution_count": null,
   "metadata": {},
   "outputs": [],
   "source": [
    "#create a new canvas with randomized colors and write to .rnt file\n",
    "writeToRuntFile('random_colors.rnt')"
   ]
  },
  {
   "cell_type": "code",
   "execution_count": null,
   "metadata": {},
   "outputs": [],
   "source": [
    "#generate 10 images with random color schemes and write them to .rnt files\n",
    "for i in range(0,10):\n",
    "    writeToRuntFile('pollack' + str(i) + '.rnt')"
   ]
  },
  {
   "cell_type": "markdown",
   "metadata": {},
   "source": [
    "## Convert .rnt files to .pngs\n",
    "\n",
    "### If your .rnt files are not in the Pixku directory, move them there and navigate to that directory.  Run this command to write your RUNT canvas to a .png:\n",
    "\n",
    "#### `./pixku filename.rnt`"
   ]
  }
 ],
 "metadata": {
  "kernelspec": {
   "display_name": "Python 3",
   "language": "python",
   "name": "python3"
  },
  "language_info": {
   "codemirror_mode": {
    "name": "ipython",
    "version": 3
   },
   "file_extension": ".py",
   "mimetype": "text/x-python",
   "name": "python",
   "nbconvert_exporter": "python",
   "pygments_lexer": "ipython3",
   "version": "3.6.3"
  }
 },
 "nbformat": 4,
 "nbformat_minor": 2
}
