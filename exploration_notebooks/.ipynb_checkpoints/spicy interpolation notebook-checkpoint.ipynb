{
 "cells": [
  {
   "cell_type": "markdown",
   "metadata": {},
   "source": [
    "# Test Notebook for Curved Lines"
   ]
  },
  {
   "cell_type": "code",
   "execution_count": 1,
   "metadata": {},
   "outputs": [],
   "source": [
    "import numpy as np\n",
    "import matplotlib.pyplot as plt\n",
    "from scipy import interpolate\n",
    "import random as rand\n",
    "\n",
    "import sys\n",
    "\n",
    "sys.path.append('../')\n",
    "from a_art_functions import *"
   ]
  },
  {
   "cell_type": "code",
   "execution_count": null,
   "metadata": {},
   "outputs": [],
   "source": [
    "def paint_line_curved(canvas, color):\n",
    "    num_points = np.random.randint(3,6)\n",
    "    \n",
    "    x = np.random.randint(0,canvas.shape[0],size=num_points)\n",
    "    while x.shape[0] > np.unique(x).shape[0]:\n",
    "        x = np.unique(x)\n",
    "        x = np.concatenate([x, np.random.randint(0,canvas.shape[0],size=1)])\n",
    "    x.sort()\n",
    "    y = np.random.randint(0,canvas.shape[1],size=num_points)\n",
    "\n",
    "    x2 = np.linspace(x[0], x[-1], (x[-1] - x[0])*4)\n",
    "    x2.sort()\n",
    "    x2, indices = np.unique(x2, return_index=True)\n",
    "    y2 = interpolate.pchip_interpolate(x, y, x2[indices])\n",
    "\n",
    "    \n",
    "    #do splatter\n",
    "    for i in range(len(x2)):\n",
    "        if y2[i] < canvas.shape[1]:\n",
    "            canvas[int(math.ceil(x2[i]))][int(math.ceil(y2[i]))] = color\n",
    "        canvas[int(math.floor(x2[i]))][int(math.floor(y2[i]))] = color\n",
    "        \n",
    "        \n",
    "def paint_splat(canvas, color):\n",
    "    num_points = np.random.randint(3,6)\n",
    "    splat_width = 4\n",
    "    splat_height = 20\n",
    "    \n",
    "    x = np.random.randint(0,canvas.shape[0],size=num_points)\n",
    "    while (min(abs(np.ediff1d(x))) < 20) | (max(x) - min(x) <= ((splat_width + 1) * num_points)) | (x.shape[0] != np.unique(x).shape[0]) | (x[1] - x[0] <= splat_width) | (x[-1] - x[-2] <= splat_width):\n",
    "        x = np.random.randint(0,canvas.shape[0],size=num_points)\n",
    "    x.sort()\n",
    "    y = np.random.randint(0,canvas.shape[1],size=num_points)\n",
    "    \n",
    "    v, w = x.copy(), y.copy()\n",
    "    \n",
    "    for i in range(num_points - 2):\n",
    "        v_temp = v[i + 1] + random.randint(-splat_width, splat_width)\n",
    "        while v_temp in v:\n",
    "            v_temp = v[i + 1] + random.randint(-splat_width, splat_width)\n",
    "        v[i + 1,] = min(max(v_temp,0),canvas.shape[0]-1)\n",
    "        w[i + 1,] += min(max(random.randint(-splat_height, splat_height),0),canvas.shape[1]-1)\n",
    "    v.sort()\n",
    "        \n",
    "\n",
    "    line_res = 5\n",
    "    x2 = np.linspace(x[0], x[-1], (x[-1] - x[0])*line_res)\n",
    "    x2, indices = np.unique(x2, return_index=True)\n",
    "    y2 = interpolate.pchip_interpolate(x, y, x2[indices])\n",
    "    \n",
    "    v2 = np.linspace(v[0], v[-1], (v[-1] - v[0])*line_res)\n",
    "    v2, indices = np.unique(v2, return_index=True)\n",
    "    w2 = interpolate.pchip_interpolate(v, w, v2[indices])\n",
    "    \n",
    "    \n",
    "    #do splatter\n",
    "    for i in range(len(x2)):\n",
    "        if y2[i] < canvas.shape[1]:\n",
    "            canvas[int(math.ceil(x2[i]))][int(math.ceil(y2[i]))] = color\n",
    "        canvas[int(math.floor(x2[i]))][int(math.floor(y2[i]))] = color\n",
    "        \n",
    "        if (v2[i] >= 0) & (w2[i] >= 0) & (v2[i] < canvas.shape[0]) & (w2[i] < canvas.shape[1] - 1):\n",
    "            canvas[int(math.ceil(v2[i]))][int(math.ceil(w2[i]))] = color\n",
    "            canvas[int(math.floor(v2[i]))][int(math.floor(w2[i]))] = color\n",
    "        \n",
    "        \n",
    "        \n",
    "def cy_twombly(width, height, num_colors, num_splatters):\n",
    "    canvas = np.zeros((width,height),dtype=int)\n",
    "    print(canvas.shape)\n",
    "\n",
    "    for x in range(0,num_splatters):\n",
    "        #randint is inclusive, need to subtract one from num_colors\n",
    "        color = random.randint(0,num_colors-1)\n",
    "        paint_splat(canvas, color)\n",
    "\n",
    "    return canvas"
   ]
  },
  {
   "cell_type": "code",
   "execution_count": null,
   "metadata": {},
   "outputs": [],
   "source": [
    "palette = []\n",
    "palette.append((206, 179, 146))\n",
    "palette.append((218, 189, 157))\n",
    "palette.append((225, 223, 212))\n",
    "palette.append((19, 20, 15))\n",
    "palette.append((11, 7, 22))\n",
    "palette.append((36, 74, 114))\n",
    "palette.append((193, 175, 84))\n",
    "palette.append((222, 90, 65))"
   ]
  },
  {
   "cell_type": "code",
   "execution_count": null,
   "metadata": {},
   "outputs": [],
   "source": [
    "width = 800 # 8 inches\n",
    "height = int(width * (93.5/155))\n",
    "num_splatters = 20\n",
    "painting = jackson_pollack_curved(width, height, len(palette), num_splatters)"
   ]
  },
  {
   "cell_type": "code",
   "execution_count": null,
   "metadata": {},
   "outputs": [],
   "source": [
    "picture = create_pollack_image(canvas=painting,palette=palette)\n",
    "picture"
   ]
  },
  {
   "cell_type": "code",
   "execution_count": null,
   "metadata": {},
   "outputs": [],
   "source": [
    "picture.save('/Users/walkerrdavis/Desktop/scribbles_01.png','PNG')"
   ]
  },
  {
   "cell_type": "code",
   "execution_count": null,
   "metadata": {},
   "outputs": [],
   "source": []
  },
  {
   "cell_type": "code",
   "execution_count": null,
   "metadata": {},
   "outputs": [],
   "source": []
  },
  {
   "cell_type": "code",
   "execution_count": null,
   "metadata": {},
   "outputs": [],
   "source": []
  },
  {
   "cell_type": "code",
   "execution_count": null,
   "metadata": {},
   "outputs": [],
   "source": []
  },
  {
   "cell_type": "code",
   "execution_count": null,
   "metadata": {},
   "outputs": [],
   "source": []
  },
  {
   "cell_type": "code",
   "execution_count": null,
   "metadata": {},
   "outputs": [],
   "source": []
  },
  {
   "cell_type": "code",
   "execution_count": null,
   "metadata": {},
   "outputs": [],
   "source": []
  },
  {
   "cell_type": "code",
   "execution_count": null,
   "metadata": {},
   "outputs": [],
   "source": []
  },
  {
   "cell_type": "code",
   "execution_count": null,
   "metadata": {},
   "outputs": [],
   "source": [
    "x = np.linspace(0, 10, num=11, endpoint=True)\n",
    "y = np.cos(-x**2/9.0)\n",
    "f = interp1d(x, y)\n",
    "f2 = interp1d(x, y, kind='cubic')"
   ]
  },
  {
   "cell_type": "code",
   "execution_count": null,
   "metadata": {},
   "outputs": [],
   "source": [
    "def get_line(x1, y1, x2, y2):\n",
    "    points = []\n",
    "    issteep = abs(y2-y1) > abs(x2-x1)\n",
    "    if issteep:\n",
    "        x1, y1 = y1, x1\n",
    "        x2, y2 = y2, x2\n",
    "    rev = False\n",
    "    if x1 > x2:\n",
    "        x1, x2 = x2, x1\n",
    "        y1, y2 = y2, y1\n",
    "        rev = True\n",
    "    deltax = x2 - x1\n",
    "    deltay = abs(y2-y1)\n",
    "    error = int(deltax / 2)\n",
    "    y = y1\n",
    "    ystep = None\n",
    "    if y1 < y2:\n",
    "        ystep = 1\n",
    "    else:\n",
    "        ystep = -1\n",
    "    for x in range(x1, x2 + 1):\n",
    "        if issteep:\n",
    "            points.append((y, x))\n",
    "        else:\n",
    "            points.append((x, y))\n",
    "        error -= deltay\n",
    "        if error < 0:\n",
    "            y += ystep\n",
    "            error += deltax\n",
    "    # Reverse the list if the coordinates were reversed\n",
    "    if rev:\n",
    "        points.reverse()\n",
    "    return points"
   ]
  },
  {
   "cell_type": "code",
   "execution_count": null,
   "metadata": {},
   "outputs": [],
   "source": [
    "def w_get_points(p1, p2, p3):\n",
    "#     print(p1, p2, p3)\n",
    "    x0, x1 = abs(p2[0] - p1[0]), abs(p3[0] - p2[0])\n",
    "    \n",
    "    ly0 = np.linspace(p1[1], p2[1], x0)\n",
    "    ly1 = np.linspace(p2[1], p3[1], x1)\n",
    "    l = np.concatenate([ly0,ly1])\n",
    "    \n",
    "    return l"
   ]
  },
  {
   "cell_type": "code",
   "execution_count": null,
   "metadata": {},
   "outputs": [],
   "source": []
  },
  {
   "cell_type": "code",
   "execution_count": null,
   "metadata": {},
   "outputs": [],
   "source": [
    "l = [0,rand.randint(0,100)]\n",
    "c = [rand.randint(0,100),rand.randint(0,100)]\n",
    "r = [100, rand.randint(0,100)]\n",
    "\n",
    "x = np.arange(0,100)\n",
    "y = w_get_points(l, c, r)\n",
    "f = interp1d(x, y)\n",
    "f2 = interp1d(x, y, kind='cubic')\n",
    "\n",
    "xnew = np.linspace(0, 99, num=400, endpoint=True)\n",
    "\n",
    "plt.plot(x,y)\n",
    "# plt.plot(xnew, f(xnew))\n",
    "plt.plot(xnew, f2(xnew))\n",
    "\n",
    "plt.xlim(0,100)\n",
    "plt.ylim(0,100)\n",
    "plt.show()"
   ]
  },
  {
   "cell_type": "code",
   "execution_count": null,
   "metadata": {},
   "outputs": [],
   "source": []
  },
  {
   "cell_type": "code",
   "execution_count": null,
   "metadata": {},
   "outputs": [],
   "source": [
    "# l = [0,rand.uniform(0,1)]\n",
    "# c = [rand.uniform(0,1),rand.uniform(0,1)]\n",
    "# r = [1.0, rand.uniform(0,1)]\n",
    "\n",
    "# x = [0, rand.uniform(0,1), 1.0]\n",
    "# y = np.random.uniform(size=3)\n",
    "print(x)\n",
    "print(y)\n",
    "\n",
    "f = interp1d(x, y)\n",
    "f2 = interp1d(x, y, kind='cubic')\n",
    "xnew = np.linspace(0, 1, num=7)\n",
    "print(xnew)\n",
    "\n",
    "plt.plot(x, y, 'g')\n",
    "plt.plot(xnew, f(xnew), 'o')\n",
    "# plt.plot(xnew,f2(xnew))\n",
    "plt.xlim(0,1)\n",
    "plt.ylim(0,1)\n",
    "plt.show()"
   ]
  },
  {
   "cell_type": "code",
   "execution_count": null,
   "metadata": {},
   "outputs": [],
   "source": [
    "x = np.arange(0,100)\n",
    "p = np.zeros([100],dtype=int)\n",
    "for i in range(3):\n",
    "    p[rand.randint(0,100)] = rand.randint(0,100)\n",
    "\n",
    "f = interp1d(x, p)\n",
    "plt.plot(x, p)\n",
    "plt.plot(x,f(p))\n",
    "# plt.xlim(0,100)\n",
    "# plt.ylim(0,100)\n",
    "# plt.show()"
   ]
  },
  {
   "cell_type": "code",
   "execution_count": null,
   "metadata": {},
   "outputs": [],
   "source": [
    "w = np.random.uniform(0, 1.0, size=3)\n",
    "h = np.random.uniform(0, 1.0, size=3)\n",
    "f = interp1d(w, h)\n",
    "\n",
    "# f2 = interp1d(w, h, kind='cubic')\n",
    "# xnew = np.linspace(0, 10, num=3, endpoint=True)\n",
    "\n",
    "plt.plot(w, h)\n",
    "plt.plot(f)\n",
    "plt.xlim(0,1)\n",
    "plt.ylim(0,1)\n",
    "plt.show()\n"
   ]
  },
  {
   "cell_type": "code",
   "execution_count": null,
   "metadata": {},
   "outputs": [],
   "source": [
    "w = np.random.randint(101, size=3)\n",
    "\n",
    "\n",
    "plt.plot(p0, p1)\n",
    "plt.xlim(0,100)\n",
    "plt.ylim(0,100)\n",
    "plt.show()"
   ]
  },
  {
   "cell_type": "code",
   "execution_count": null,
   "metadata": {},
   "outputs": [],
   "source": [
    "p0 = [rand.randint(0,100),rand.randint(0,100)]\n",
    "p1 = [rand.randint(0,100),rand.randint(0,100)]\n",
    "\n",
    "plt.plot(p0, p1)\n",
    "plt.xlim(0,100)\n",
    "plt.ylim(0,100)\n",
    "plt.show()"
   ]
  },
  {
   "cell_type": "code",
   "execution_count": null,
   "metadata": {},
   "outputs": [],
   "source": []
  }
 ],
 "metadata": {
  "kernelspec": {
   "display_name": "Python 3",
   "language": "python",
   "name": "python3"
  },
  "language_info": {
   "codemirror_mode": {
    "name": "ipython",
    "version": 3
   },
   "file_extension": ".py",
   "mimetype": "text/x-python",
   "name": "python",
   "nbconvert_exporter": "python",
   "pygments_lexer": "ipython3",
   "version": "3.6.8"
  }
 },
 "nbformat": 4,
 "nbformat_minor": 2
}
