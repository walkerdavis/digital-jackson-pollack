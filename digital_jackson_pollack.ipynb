{
 "cells": [
  {
   "cell_type": "code",
   "execution_count": 45,
   "metadata": {},
   "outputs": [],
   "source": [
    "import os\n",
    "import sys\n",
    "import subprocess\n",
    "import ptyprocess\n",
    "import numpy as np\n",
    "import math\n",
    "import random"
   ]
  },
  {
   "cell_type": "code",
   "execution_count": 2,
   "metadata": {},
   "outputs": [],
   "source": [
    "def get_line(picture, x0, y0, x1, y1, color):\n",
    "    hypotenuse = int(pow((pow(x0-x1, 2) + pow(y0-y1, 2)), 1/2))\n",
    "\n",
    "    #create the points \n",
    "    xs=np.linspace(x0,x1,hypotenuse+2)\n",
    "    ys=np.linspace(y0,y1,hypotenuse+2)\n",
    "\n",
    "    #do splatter\n",
    "    for i in range(len(xs)):\n",
    "        picture[int(math.ceil(xs[i]))][int(math.ceil(ys[i]))] = color\n",
    "        picture[int(math.floor(xs[i]))][int(math.floor(ys[i]))] = color\n",
    "    picture"
   ]
  },
  {
   "cell_type": "code",
   "execution_count": 3,
   "metadata": {},
   "outputs": [],
   "source": [
    "def choose_colors(num_colors):\n",
    "    palette = []\n",
    "    for swatch in range(0, num_colors):\n",
    "        color = []\n",
    "        color.append(random.randint(0,255))\n",
    "        color.append(random.randint(0,255))\n",
    "        color.append(random.randint(0,255))\n",
    "        palette.append(color)\n",
    "    \n",
    "    return palette"
   ]
  },
  {
   "cell_type": "code",
   "execution_count": 4,
   "metadata": {},
   "outputs": [],
   "source": [
    "def jackson_pollack(width, height, num_colors, num_splatters):\n",
    "    \n",
    "    canvas = np.zeros((width,height),dtype=int)\n",
    "    \n",
    "    for x in range(0,num_splatters):\n",
    "        x0 = random.randint(0,width-1)\n",
    "        y0 = random.randint(0,height-1)\n",
    "        x1 = random.randint(0,width-1)\n",
    "        y1 = random.randint(0,height-1)\n",
    "        color = random.randint(0,num_colors - 1)\n",
    "        get_line(canvas,x0,y0,x1,y1,color)\n",
    "\n",
    "    return canvas"
   ]
  },
  {
   "cell_type": "code",
   "execution_count": 70,
   "metadata": {},
   "outputs": [],
   "source": [
    "def writeToRuntFile(filename, palette):\n",
    "    with open(filename, 'w') as text_file:\n",
    "        text_file.write(\"# generated image using jackson pollack jupyter notebook\")\n",
    "        text_file.write('\\n')\n",
    "\n",
    "        #get colors and write to file\n",
    "        for i in range(0, len(palette)):\n",
    "            color_inst = str(i) + ' ' + str(palette[i]) + ' pxclr'\n",
    "            text_file.write(color_inst)\n",
    "            text_file.write('\\n')\n",
    "\n",
    "        #make canvas and paint\n",
    "        canvas = jackson_pollack(256, 256, 8, 65536)\n",
    "            \n",
    "        #write each pxpt to file\n",
    "        for (x,y), value in np.ndenumerate(canvas):\n",
    "            pixel_str = str(x) + ' ' + str(y) + ' ' + str(canvas[x][y]) + ' pxpt'\n",
    "            text_file.write(pixel_str)\n",
    "            text_file.write('\\n')\n",
    "\n",
    "\n",
    "        footer_str = '\\\"' + filename.split(\".\")[0] + '.png\\\" pxsave'\n",
    "#         footer_str = '\\\"' + 'out' + '.png\\\" pxsave'\n",
    "        text_file.write(footer_str)\n",
    "        text_file.write('\\n')"
   ]
  },
  {
   "cell_type": "code",
   "execution_count": 61,
   "metadata": {},
   "outputs": [],
   "source": [
    "def randomColorsToRuntFile(filename):\n",
    "    with open(filename, 'w') as text_file:\n",
    "        text_file.write(\"# generated image using jackson pollack jupyter notebook\")\n",
    "        text_file.write('\\n')\n",
    "\n",
    "        #get colors and write to file\n",
    "        palette = choose_colors(8)\n",
    "        for i in range(0, len(palette)):\n",
    "            color_inst = str(i) + ' ' + \" \".join(str(x) for x in palette[i]) + ' pxclr'\n",
    "            text_file.write(color_inst)\n",
    "            text_file.write('\\n')\n",
    "\n",
    "        #make canvas and paint\n",
    "        canvas = jackson_pollack(256, 256, 8, 65536)\n",
    "            \n",
    "        #write each pxpt to file\n",
    "        for (x,y), value in np.ndenumerate(canvas):\n",
    "            pixel_str = str(x) + ' ' + str(y) + ' ' + str(canvas[x][y]) + ' pxpt'\n",
    "            text_file.write(pixel_str)\n",
    "            text_file.write('\\n')\n",
    "\n",
    "\n",
    "        footer_str = '\\\"' + filename.split(\".\")[0] + '.png\\\" pxsave'\n",
    "#         footer_str = '\\\"' + 'out' + '.png\\\" pxsave'\n",
    "        text_file.write(footer_str)\n",
    "        text_file.write('\\n')"
   ]
  },
  {
   "cell_type": "code",
   "execution_count": 71,
   "metadata": {},
   "outputs": [],
   "source": [
    "#generate image with colors similar to \n",
    "\n",
    "palette = []\n",
    "palette.append('216 187 154')\n",
    "palette.append('206 179 146')\n",
    "palette.append('218 189 157')\n",
    "palette.append('225 223 212')\n",
    "palette.append('19 20 15')\n",
    "palette.append('36 74 114')\n",
    "palette.append('193 175 84')\n",
    "palette.append('222 90 65')\n",
    "\n",
    "writeToRuntFile('/Users/walkerrdavis/GitHub/Pixku/convergence.rnt', palette)"
   ]
  },
  {
   "cell_type": "code",
   "execution_count": 60,
   "metadata": {},
   "outputs": [],
   "source": [
    "#generate 10 images with 8 random colors\n",
    "for i in range(0,10):\n",
    "    randomColorsToRuntFile('/Users/walkerrdavis/GitHub/Pixku/pollack' + str(i) + '.rnt')\n",
    "    pixku_to_terminal = []\n",
    "    pixku_to_terminal.append('./pixku /Users/walkerrdavis/GitHub/Pixku/pollack' + str(i) + '.rnt')\n",
    "    print(pixku_to_terminal)"
   ]
  }
 ],
 "metadata": {
  "kernelspec": {
   "display_name": "Python 3",
   "language": "python",
   "name": "python3"
  },
  "language_info": {
   "codemirror_mode": {
    "name": "ipython",
    "version": 3
   },
   "file_extension": ".py",
   "mimetype": "text/x-python",
   "name": "python",
   "nbconvert_exporter": "python",
   "pygments_lexer": "ipython3",
   "version": "3.6.3"
  }
 },
 "nbformat": 4,
 "nbformat_minor": 2
}
