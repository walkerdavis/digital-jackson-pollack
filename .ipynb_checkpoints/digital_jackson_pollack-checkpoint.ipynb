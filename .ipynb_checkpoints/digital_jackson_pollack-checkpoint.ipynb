{
 "cells": [
  {
   "cell_type": "markdown",
   "metadata": {},
   "source": [
    "# Digital Jackson Pollock Notebook\n",
    "#### In addition to running this notebook, you will need to clone Muvik Labs [Pixku](https://www.github.com/MuvikLabs/pixku) repo and follow the instructions there to generate your digital canvases.  "
   ]
  },
  {
   "cell_type": "code",
   "execution_count": 1,
   "metadata": {},
   "outputs": [],
   "source": [
    "import numpy as np\n",
    "import math\n",
    "import random"
   ]
  },
  {
   "cell_type": "markdown",
   "metadata": {},
   "source": [
    "## Functions for drawing lines and specifying or randomizing cavnas elements"
   ]
  },
  {
   "cell_type": "code",
   "execution_count": 2,
   "metadata": {},
   "outputs": [],
   "source": [
    "def get_line(canvas, x0, y0, x1, y1, color):\n",
    "    \"\"\"\n",
    "    Draw a line on your canvas\n",
    "    \n",
    "    Args:\n",
    "        canvas: A 2-D numpy array of integers\n",
    "        x0,y0: Integers coordinates at which the line begins\n",
    "        x1,y1: Integers coordinate at which the line ends\n",
    "        color: Integer that represents of these colors in your pallete\n",
    "\n",
    "    Returns:\n",
    "        Nothing, but your canvas has a new line on it.\n",
    "    \"\"\"\n",
    "    hypotenuse = int(pow((pow(x0-x1, 2) + pow(y0-y1, 2)), 1/2))\n",
    "\n",
    "    #create the points at every pixel between each coordinate\n",
    "    xs=np.linspace(x0,x1,hypotenuse+2)\n",
    "    ys=np.linspace(y0,y1,hypotenuse+2)\n",
    "\n",
    "    #do splatter\n",
    "    for i in range(len(xs)):\n",
    "        canvas[int(math.ceil(xs[i]))][int(math.ceil(ys[i]))] = color\n",
    "        canvas[int(math.floor(xs[i]))][int(math.floor(ys[i]))] = color"
   ]
  },
  {
   "cell_type": "code",
   "execution_count": 17,
   "metadata": {},
   "outputs": [
    {
     "ename": "SyntaxError",
     "evalue": "invalid syntax (<ipython-input-17-20b8ab9b194c>, line 16)",
     "output_type": "error",
     "traceback": [
      "\u001b[0;36m  File \u001b[0;32m\"<ipython-input-17-20b8ab9b194c>\"\u001b[0;36m, line \u001b[0;32m16\u001b[0m\n\u001b[0;31m    raise ValueError(Too many colors, Pixku accepts 8 max)\u001b[0m\n\u001b[0m                            ^\u001b[0m\n\u001b[0;31mSyntaxError\u001b[0m\u001b[0;31m:\u001b[0m invalid syntax\n"
     ]
    }
   ],
   "source": [
    "def get_random_colors(num_colors):\n",
    "    \"\"\"\n",
    "    Generate RGB values of a specified amount of colors\n",
    "    \n",
    "    Args:\n",
    "        num_colors: Integer of how many colors you would like\n",
    "    \n",
    "    Returns:\n",
    "        palette: An array that contains arrays of 3 RGB values, integers between 0 and 255\n",
    "    \"\"\"\n",
    "    palette = []\n",
    "    for swatch in range(0, num_colors):\n",
    "        color = []\n",
    "        color.append(random.randint(0,255))\n",
    "        color.append(random.randint(0,255))\n",
    "        color.append(random.randint(0,255))\n",
    "        palette.append(color)\n",
    "    \n",
    "    return palette"
   ]
  },
  {
   "cell_type": "code",
   "execution_count": 4,
   "metadata": {},
   "outputs": [],
   "source": [
    "def jackson_pollack(width, height, num_colors, num_splatters):\n",
    "    \n",
    "    canvas = np.zeros((width,height),dtype=int)\n",
    "    \n",
    "    for x in range(0,num_splatters):\n",
    "        x0 = random.randint(0,width-1)\n",
    "        y0 = random.randint(0,height-1)\n",
    "        x1 = random.randint(0,width-1)\n",
    "        y1 = random.randint(0,height-1)\n",
    "        color = random.randint(0,num_colors - 1)\n",
    "        get_line(canvas,x0,y0,x1,y1,color)\n",
    "\n",
    "    return canvas"
   ]
  },
  {
   "cell_type": "code",
   "execution_count": 10,
   "metadata": {},
   "outputs": [],
   "source": [
    "def writeToRuntFile(filename, palette=[]):\n",
    "    with open(filename, 'w') as text_file:\n",
    "        text_file.write(\"# generated image using jackson pollack jupyter notebook\")\n",
    "        text_file.write('\\n')\n",
    "\n",
    "        #set up palette\n",
    "        if not palette:\n",
    "            #use colors of your choice\n",
    "            for i in range(0, len(palette)):\n",
    "                color_inst = str(i) + ' ' + str(palette[i]) + ' pxclr'\n",
    "                text_file.write(color_inst)\n",
    "                text_file.write('\\n')\n",
    "        else:\n",
    "            #use randomly generated colors\n",
    "            for i in range(0, len(palette)):\n",
    "                color_inst = str(i) + ' ' + str(palette[i]) + ' pxclr'\n",
    "                text_file.write(color_inst)\n",
    "                text_file.write('\\n')\n",
    "\n",
    "                \n",
    "        #get new canvas and paint\n",
    "        canvas = jackson_pollack(256, 256, 8, 65536)\n",
    "            \n",
    "        #write each pxpt to file\n",
    "        for (x,y), value in np.ndenumerate(canvas):\n",
    "            pixel_str = str(x) + ' ' + str(y) + ' ' + str(canvas[x][y]) + ' pxpt'\n",
    "            text_file.write(pixel_str)\n",
    "            text_file.write('\\n')\n",
    "\n",
    "\n",
    "        footer_str = '\\\"' + filename.split(\".\")[0] + '.png\\\" pxsave'\n",
    "        text_file.write(footer_str)\n",
    "        text_file.write('\\n')"
   ]
  },
  {
   "cell_type": "markdown",
   "metadata": {},
   "source": [
    "## Generate Your Canvases"
   ]
  },
  {
   "cell_type": "code",
   "execution_count": 13,
   "metadata": {},
   "outputs": [],
   "source": [
    "#these are the RGB values of the colors used in Jackson Pollack's 1952 Convergence\n",
    "#***pixku accepts a max of 8 colors***\n",
    "\n",
    "palette = []\n",
    "palette.append('216 187 154')\n",
    "palette.append('206 179 146')\n",
    "palette.append('218 189 157')\n",
    "palette.append('225 223 212')\n",
    "palette.append('19 20 15')\n",
    "palette.append('36 74 114')\n",
    "palette.append('193 175 84')\n",
    "palette.append('222 90 65')"
   ]
  },
  {
   "cell_type": "code",
   "execution_count": 14,
   "metadata": {},
   "outputs": [],
   "source": [
    "#create a new canvas with Pollack's Convergence colors\n",
    "writeToRuntFile('convergence.rnt', palette)"
   ]
  },
  {
   "cell_type": "code",
   "execution_count": null,
   "metadata": {},
   "outputs": [],
   "source": [
    "#create a new canvas with randomized colors\n",
    "writeToRuntFile('random_colors.rnt')"
   ]
  },
  {
   "cell_type": "code",
   "execution_count": 16,
   "metadata": {},
   "outputs": [],
   "source": [
    "#generate 10 images with random color schemes\n",
    "for i in range(0,10):\n",
    "    writeToRuntFile('pollack' + str(i) + '.rnt')"
   ]
  }
 ],
 "metadata": {
  "kernelspec": {
   "display_name": "Python 3",
   "language": "python",
   "name": "python3"
  },
  "language_info": {
   "codemirror_mode": {
    "name": "ipython",
    "version": 3
   },
   "file_extension": ".py",
   "mimetype": "text/x-python",
   "name": "python",
   "nbconvert_exporter": "python",
   "pygments_lexer": "ipython3",
   "version": "3.6.3"
  }
 },
 "nbformat": 4,
 "nbformat_minor": 2
}
