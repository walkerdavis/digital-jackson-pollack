{
 "cells": [
  {
   "cell_type": "code",
   "execution_count": 36,
   "metadata": {},
   "outputs": [],
   "source": [
    "import numpy as np\n",
    "import matplotlib.pyplot as plt\n",
    "from scipy import interpolate\n",
    "from art_functions import *\n",
    "import random as rand\n",
    "\n",
    "from colorthief import ColorThief\n",
    "from operator import add, sub"
   ]
  },
  {
   "cell_type": "code",
   "execution_count": 2,
   "metadata": {},
   "outputs": [],
   "source": [
    "painting = '/Users/walkerrdavis/Desktop/convergence.jpg'"
   ]
  },
  {
   "cell_type": "code",
   "execution_count": null,
   "metadata": {},
   "outputs": [],
   "source": [
    "from __future__ import print_function\n",
    "import binascii\n",
    "import struct\n",
    "from PIL import Image\n",
    "import numpy as np\n",
    "import scipy\n",
    "import scipy.misc\n",
    "import scipy.cluster\n",
    "\n",
    "NUM_CLUSTERS = 5\n",
    "\n",
    "print('reading image')\n",
    "im = Image.open(painting)\n",
    "im = im.resize((150, 150))      # optional, to reduce time\n",
    "ar = np.asarray(im)\n",
    "shape = ar.shape\n",
    "ar = ar.reshape(scipy.product(shape[:2]), shape[2]).astype(float)\n",
    "\n",
    "print('finding clusters')\n",
    "codes, dist = scipy.cluster.vq.kmeans(ar, NUM_CLUSTERS)\n",
    "print('cluster centres:\\n', codes)\n",
    "\n",
    "vecs, dist = scipy.cluster.vq.vq(ar, codes)         # assign codes\n",
    "counts, bins = scipy.histogram(vecs, len(codes))    # count occurrences\n",
    "\n",
    "index_max = scipy.argmax(counts)                    # find most frequent\n",
    "peak = codes[index_max]\n",
    "colour = binascii.hexlify(bytearray(int(c) for c in peak)).decode('ascii')\n",
    "print('most frequent is %s (#%s)' % (peak, colour))"
   ]
  },
  {
   "cell_type": "code",
   "execution_count": null,
   "metadata": {},
   "outputs": [],
   "source": []
  },
  {
   "cell_type": "code",
   "execution_count": null,
   "metadata": {},
   "outputs": [],
   "source": []
  },
  {
   "cell_type": "code",
   "execution_count": 47,
   "metadata": {},
   "outputs": [
    {
     "name": "stdout",
     "output_type": "stream",
     "text": [
      "Actual colour name: None , closest colour name: cadetblue\n"
     ]
    }
   ],
   "source": [
    "import webcolors\n",
    "\n",
    "def closest_colour(requested_colour):\n",
    "    min_colours = {}\n",
    "    for key, name in webcolors.css3_hex_to_names.items():\n",
    "        r_c, g_c, b_c = webcolors.hex_to_rgb(key)\n",
    "        rd = (r_c - requested_colour[0]) ** 2\n",
    "        gd = (g_c - requested_colour[1]) ** 2\n",
    "        bd = (b_c - requested_colour[2]) ** 2\n",
    "        min_colours[(rd + gd + bd)] = name\n",
    "    return min_colours[min(min_colours.keys())]\n",
    "\n",
    "def get_colour_name(requested_colour):\n",
    "    try:\n",
    "        closest_name = actual_name = webcolors.rgb_to_name(requested_colour)\n",
    "    except ValueError:\n",
    "        closest_name = closest_colour(requested_colour)\n",
    "        actual_name = None\n",
    "    return actual_name, closest_name\n",
    "\n",
    "requested_colour = (119, 172, 152)\n",
    "actual_name, closest_name = get_colour_name(requested_colour)\n",
    "\n",
    "print (\"Actual colour name:\", actual_name, \", closest colour name:\", closest_name)"
   ]
  },
  {
   "cell_type": "code",
   "execution_count": null,
   "metadata": {},
   "outputs": [],
   "source": []
  },
  {
   "cell_type": "code",
   "execution_count": null,
   "metadata": {},
   "outputs": [],
   "source": [
    "key_words = ['dark','grey']"
   ]
  },
  {
   "cell_type": "markdown",
   "metadata": {},
   "source": [
    "https://www.w3schools.com/colors/colors_groups.asp"
   ]
  },
  {
   "cell_type": "code",
   "execution_count": 48,
   "metadata": {},
   "outputs": [
    {
     "name": "stdout",
     "output_type": "stream",
     "text": [
      "darkolivegreen\n",
      "darkgrey\n",
      "darkkhaki\n",
      "peru\n",
      "lightgrey\n",
      "darkslategrey\n",
      "tan\n",
      "dimgrey\n"
     ]
    },
    {
     "data": {
      "text/plain": [
       "[(83, 82, 68),\n",
       " (147, 151, 165),\n",
       " (208, 177, 101),\n",
       " (205, 171, 69),\n",
       " (223, 212, 194),\n",
       " (46, 52, 67),\n",
       " (183, 175, 142),\n",
       " (124, 121, 99)]"
      ]
     },
     "execution_count": 48,
     "metadata": {},
     "output_type": "execute_result"
    }
   ],
   "source": [
    "color_thief = ColorThief(painting)\n",
    "# get the dominant color\n",
    "dominant_colors = color_thief.get_palette(color_count=100)\n",
    "\n",
    "\n",
    "palette = []\n",
    "color_index = 0\n",
    "\n",
    "while (len(palette) < 8) & (color_index < 100):\n",
    "    dc = dominant_colors[color_index]\n",
    "    if not palette:\n",
    "        palette.append(dc)\n",
    "        print(closest_colour(dc))\n",
    "        image = Image.new('RGB', (200,100))\n",
    "        image.paste( dc, [0,0,image.size[0],image.size[1]])\n",
    "        image.show()\n",
    "    else:\n",
    "        for pc in palette:\n",
    "            if dc not in palette:\n",
    "                dif = sum(map(abs,list( map(sub, pc, dc) )))\n",
    "                if dif > 200:\n",
    "                    palette.append(dc)\n",
    "                    print(closest_colour(dc))\n",
    "                    image = Image.new('RGB', (200,100))\n",
    "                    image.paste( dc, [0,0,image.size[0],image.size[1]])\n",
    "                    image.show()\n",
    "                    \n",
    "    \n",
    "    color_index += 1\n",
    "    \n",
    "#     print(dc)\n",
    "#     image = Image.new('RGB', (200,100))\n",
    "#     image.paste( dc, [0,0,image.size[0],image.size[1]])\n",
    "#     image.show()\n",
    "\n",
    "palette"
   ]
  },
  {
   "cell_type": "code",
   "execution_count": 28,
   "metadata": {},
   "outputs": [
    {
     "data": {
      "text/plain": [
       "185"
      ]
     },
     "execution_count": 28,
     "metadata": {},
     "output_type": "execute_result"
    }
   ],
   "source": [
    "a = list((87, 93, 111))\n",
    "b = list((205, 83, 54))"
   ]
  },
  {
   "cell_type": "code",
   "execution_count": null,
   "metadata": {},
   "outputs": [],
   "source": []
  },
  {
   "cell_type": "code",
   "execution_count": null,
   "metadata": {},
   "outputs": [],
   "source": []
  },
  {
   "cell_type": "code",
   "execution_count": 54,
   "metadata": {},
   "outputs": [
    {
     "data": {
      "text/plain": [
       "['Pink \\t#FFC0CB\\t \\tShades\\tMixLightPink \\t#FFB6C1\\t \\tShades\\tMixHotPink \\t#FF69B4\\t \\tShades\\tMixDeepPink \\t#FF1493\\t \\tShades\\tMixPaleVioletRed \\t#DB7093\\t \\tShades\\tMixMediumVioletRed \\tC71585']"
      ]
     },
     "execution_count": 54,
     "metadata": {},
     "output_type": "execute_result"
    }
   ],
   "source": [
    "['Pink \t#FFC0CB\t \tShades\tMix'\n",
    "'LightPink \t#FFB6C1\t \tShades\tMix'\n",
    "'HotPink \t#FF69B4\t \tShades\tMix'\n",
    "'DeepPink \t#FF1493\t \tShades\tMix'\n",
    "'PaleVioletRed \t#DB7093\t \tShades\tMix'\n",
    "'MediumVioletRed \tC71585']"
   ]
  },
  {
   "cell_type": "code",
   "execution_count": null,
   "metadata": {},
   "outputs": [],
   "source": []
  }
 ],
 "metadata": {
  "kernelspec": {
   "display_name": "Python 3",
   "language": "python",
   "name": "python3"
  },
  "language_info": {
   "codemirror_mode": {
    "name": "ipython",
    "version": 3
   },
   "file_extension": ".py",
   "mimetype": "text/x-python",
   "name": "python",
   "nbconvert_exporter": "python",
   "pygments_lexer": "ipython3",
   "version": "3.6.8"
  }
 },
 "nbformat": 4,
 "nbformat_minor": 2
}
